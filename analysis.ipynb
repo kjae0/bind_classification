{
 "cells": [
  {
   "cell_type": "code",
   "execution_count": 8,
   "metadata": {},
   "outputs": [],
   "source": [
    "from PIL import Image\n",
    "import pandas as pd\n",
    "import numpy as np\n",
    "import os\n",
    "from tqdm import tqdm"
   ]
  },
  {
   "cell_type": "code",
   "execution_count": 16,
   "metadata": {},
   "outputs": [
    {
     "name": "stdout",
     "output_type": "stream",
     "text": [
      "['ab_image', 'bad_image', 'good_image']\n"
     ]
    }
   ],
   "source": [
    "test = list(os.walk(\"./data_edited/\"))\n",
    "test = test[0][1]\n",
    "test = [i for i in test if i[0] not in '_']\n",
    "print(test)"
   ]
  },
  {
   "cell_type": "code",
   "execution_count": 3,
   "metadata": {},
   "outputs": [],
   "source": [
    "root_dir = \"./data_edited/\"\n",
    "ab_dir = os.path.join(root_dir, \"ab_image\")\n",
    "bad_dir = os.path.join(root_dir, \"bad_image\")\n",
    "good_dir = os.path.join(root_dir, \"good_image\")"
   ]
  },
  {
   "cell_type": "code",
   "execution_count": 4,
   "metadata": {},
   "outputs": [],
   "source": [
    "ab_files = os.listdir(ab_dir)\n",
    "bad_files = os.listdir(bad_dir)\n",
    "good_files = os.listdir(good_dir)\n",
    "\n",
    "ab_files.sort()\n",
    "bad_files.sort()\n",
    "good_files.sort()"
   ]
  },
  {
   "cell_type": "code",
   "execution_count": 8,
   "metadata": {},
   "outputs": [],
   "source": [
    "ab_images = [Image.open(os.path.join(ab_dir, i)).convert('RGB') for i in ab_files]\n",
    "bad_images = [Image.open(os.path.join(bad_dir, i)).convert('RGB') for i in bad_files]\n",
    "good_images = [Image.open(os.path.join(good_dir, i)).convert('RGB') for i in good_files]"
   ]
  }
 ],
 "metadata": {
  "kernelspec": {
   "display_name": "test",
   "language": "python",
   "name": "python3"
  },
  "language_info": {
   "codemirror_mode": {
    "name": "ipython",
    "version": 3
   },
   "file_extension": ".py",
   "mimetype": "text/x-python",
   "name": "python",
   "nbconvert_exporter": "python",
   "pygments_lexer": "ipython3",
   "version": "3.7.12"
  },
  "orig_nbformat": 4,
  "vscode": {
   "interpreter": {
    "hash": "6cf1857bd7cbae44c70dea7772053a3342d30f541dc796070319dda973127231"
   }
  }
 },
 "nbformat": 4,
 "nbformat_minor": 2
}
